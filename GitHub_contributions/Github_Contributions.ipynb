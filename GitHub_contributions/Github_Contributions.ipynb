{
 "cells": [
  {
   "cell_type": "code",
   "execution_count": 1,
   "metadata": {},
   "outputs": [],
   "source": [
    "import numpy  as np\n",
    "import pandas as pd\n",
    "\n",
    "import seaborn           as sns\n",
    "import matplotlib.pyplot as plt\n",
    "\n",
    "import json, calendar\n",
    "\n",
    "from urllib.request import urlopen\n",
    "from bs4 import BeautifulSoup"
   ]
  },
  {
   "cell_type": "code",
   "execution_count": 2,
   "metadata": {},
   "outputs": [],
   "source": [
    "def get_data(y):\n",
    "    url = 'https://github.com/users/chAwater/contributions?from=' + y + '-12-01&to=' + y + '-12-31'\n",
    "    html  = urlopen(url)\n",
    "    bsObj = BeautifulSoup(html,'lxml')\n",
    "    table = bsObj.findAll('rect', {'class':'ContributionCalendar-day'})\n",
    "    \n",
    "    df = pd.DataFrame(\n",
    "        [ rect.attrs for rect in table ]\n",
    "    ).drop( ['class','height','width', 'rx', 'ry'], axis=1, errors='ignore' ).dropna(how='any').astype(\n",
    "        {\n",
    "            'x':int, 'y':int,\n",
    "            'data-count':int\n",
    "        }\n",
    "    )\n",
    "\n",
    "    df['x'] += -1*df.min()['x']\n",
    "\n",
    "    df['date'] = pd.to_datetime(df['data-date'])\n",
    "\n",
    "    df['month']   = df['date'].apply(lambda row: calendar.month_abbr[row.month])\n",
    "    df['year']    = df['date'].apply(lambda row: row.year).apply(str)\n",
    "    df['weekday'] = df['date'].apply(lambda row: row.day_name()[:3])\n",
    "\n",
    "    df = df.query('year==@y')\n",
    "\n",
    "    return df"
   ]
  },
  {
   "cell_type": "code",
   "execution_count": 3,
   "metadata": {},
   "outputs": [],
   "source": [
    "def plot_df(df):\n",
    "    y = str(df['year'].unique()[0])\n",
    "    \n",
    "    x_labels = df.loc[ df['month'].drop_duplicates().index , ['x','month']]\n",
    "    y_labels = df[['y','weekday']].drop_duplicates().sort_values('y')[1::2]\n",
    "\n",
    "#     c_labels = df.groupby('fill')['data-count'].max().sort_values().apply( lambda row: np.ceil(row/5).astype(int)*5 ).reset_index()\n",
    "#     c_labels = df.groupby('fill')['data-count'].max().sort_values().reset_index()\n",
    "#     c_labels['idx'] = c_labels.index.to_numpy()*5\n",
    "    c_labels = sns.color_palette('Greens',5)\n",
    "\n",
    "    fig, ax = plt.subplots(figsize=(15,2))\n",
    "    cbar_ax = fig.add_axes([0.80, 0.0, 0.07, 0.1]) # [left, bottom, width, height]\n",
    "\n",
    "#     ax.scatter( x=df['x'], y=df['y'], color=df['fill'], s=105, marker='s')\n",
    "    ax.scatter( x=df['x'], y=df['y'], color=df['data-level'].apply(lambda x: c_labels[int(x)] if x!='0' else 'whitesmoke'), s=105, marker='s')\n",
    "\n",
    "    ax.set_xticks(x_labels['x']-1)\n",
    "    ax.set_xticklabels(x_labels['month'])\n",
    "    ax.xaxis.tick_top()\n",
    "    ax.xaxis.set_label_position('top')\n",
    "\n",
    "    ax.set_yticks(y_labels['y'])\n",
    "    ax.set_yticklabels(y_labels['weekday'])\n",
    "\n",
    "    ax.tick_params(length=0)\n",
    "\n",
    "#     cbar_ax.scatter( x=c_labels.index.tolist(), y=[0]*c_labels.shape[0], color=c_labels['fill'], s=100, marker='s')\n",
    "    cbar_ax.scatter( x=np.arange(0,5), y=[0]*5, color=c_labels, s=100, marker='s')\n",
    "    cbar_ax.set_yticks([])\n",
    "#     cbar_ax.set_xticks(c_labels.index.tolist())\n",
    "    cbar_ax.set_xticks(np.arange(0,5))\n",
    "#     cbar_ax.set_xticklabels(c_labels['idx'])\n",
    "    cbar_ax.set_xticklabels(df.groupby('data-level')['data-count'].max().values)\n",
    "    cbar_ax.tick_params(length=0)\n",
    "    cbar_ax.set_xlim(-0.5,5.5)\n",
    "    cbar_ax.tick_params(length=0)\n",
    "\n",
    "    for axis in ['top','bottom','left','right']:\n",
    "        ax.spines[axis].set_visible(False)\n",
    "        cbar_ax.spines[axis].set_visible(False)\n",
    "\n",
    "    x1,x2 = ax.get_xlim()\n",
    "    y1,y2 = ax.get_ylim()\n",
    "\n",
    "    ax.set_xlim( int(x2+2), int(x1-2) )\n",
    "    ax.set_ylim( int(y2+8), int(y1-8) )\n",
    "\n",
    "    ax.set_title('GitHub Contributions @ '+y)\n",
    "\n",
    "    fig.savefig('GitHub_Contributions_' +str(y) + '.png', bbox_inches='tight')\n",
    "    fig.savefig('GitHub_Contributions_' +str(y) + '.svg', bbox_inches='tight')"
   ]
  },
  {
   "cell_type": "code",
   "execution_count": 4,
   "metadata": {},
   "outputs": [
    {
     "data": {
      "image/png": "[encoded data removed]",
      "text/plain": [
       "<Figure size 1080x144 with 2 Axes>"
      ]
     },
     "metadata": {
      "needs_background": "light"
     },
     "output_type": "display_data"
    },
    {
     "data": {
      "image/png": "[encoded data removed]",
      "text/plain": [
       "<Figure size 1080x144 with 2 Axes>"
      ]
     },
     "metadata": {
      "needs_background": "light"
     },
     "output_type": "display_data"
    }
   ],
   "source": [
    "# for y in ['2018','2019']:\n",
    "for y in ['2020','2021']:\n",
    "    df = get_data(y)\n",
    "    plot_df(df)\n"
   ]
  },
  {
   "cell_type": "code",
   "execution_count": null,
   "metadata": {},
   "outputs": [],
   "source": []
  },
  {
   "cell_type": "code",
   "execution_count": null,
   "metadata": {},
   "outputs": [],
   "source": []
  }
 ],
 "metadata": {
  "jupytext": {
   "formats": "ipynb,py:light"
  },
  "kernelspec": {
   "display_name": "Python 3 (ipykernel)",
   "language": "python",
   "name": "python3"
  },
  "language_info": {
   "codemirror_mode": {
    "name": "ipython",
    "version": 3
   },
   "file_extension": ".py",
   "mimetype": "text/x-python",
   "name": "python",
   "nbconvert_exporter": "python",
   "pygments_lexer": "ipython3",
   "version": "3.7.11"
  }
 },
 "nbformat": 4,
 "nbformat_minor": 2
}
