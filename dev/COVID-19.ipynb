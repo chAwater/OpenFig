{
 "cells": [
  {
   "cell_type": "code",
   "execution_count": 1,
   "metadata": {},
   "outputs": [],
   "source": [
    "import os\n",
    "\n",
    "from tqdm.auto import tqdm\n",
    "\n",
    "import numpy  as np\n",
    "import pandas as pd\n",
    "\n",
    "import imageio\n",
    "import matplotlib.pyplot as plt\n",
    "\n",
    "from matplotlib.colors import Normalize\n",
    "\n",
    "import cartopy.crs as ccrs\n",
    "import cartopy.feature as cfeature\n",
    "import cartopy.io.shapereader as shpreader"
   ]
  },
  {
   "cell_type": "markdown",
   "metadata": {},
   "source": [
    "## Data for the Map\n",
    "\n",
    "- Download data from [GADM](https://gadm.org)"
   ]
  },
  {
   "cell_type": "code",
   "execution_count": 2,
   "metadata": {},
   "outputs": [],
   "source": [
    "name2map = {\n",
    "    'Neimenggu':'Nei Mongol',\n",
    "    'Ningxia':'Ningxia Hui',\n",
    "    'Xinjiang':'Xinjiang Uygur',\n",
    "    'Macau':'Macao',\n",
    "}\n",
    "\n",
    "geo_data = {}\n",
    "\n",
    "# 中国大陆\n",
    "for record in shpreader.Reader('./data_GADM/gadm36_CHN_1.shp').records():\n",
    "    name = record.attributes['NAME_1']\n",
    "    geo  = record.geometry\n",
    "    geo_data[name] = geo\n",
    "\n",
    "# 香港、澳门、台湾\n",
    "for sp in ['HKG','MAC','TWN']:\n",
    "    record = list(shpreader.Reader('./data_GADM/gadm36_{:s}_0.shp'.format(sp)).records())[0]\n",
    "    name = record.attributes['NAME_0']\n",
    "    geo = record.geometry\n",
    "    geo_data[name] = geo\n"
   ]
  },
  {
   "cell_type": "markdown",
   "metadata": {},
   "source": [
    "## Load data\n",
    "\n",
    "- Download data from https://github.com/BlankerL/DXY-COVID-19-Data\n",
    "- Keep the max value for a day\n",
    "- Define `existed` = `confirmed` - `cured` - `dead`"
   ]
  },
  {
   "cell_type": "code",
   "execution_count": 3,
   "metadata": {},
   "outputs": [],
   "source": [
    "date_str = pd.date_range(start='2020-01-22',end='2020-03-23').strftime('%Y-%m-%d')\n",
    "\n",
    "china_df = (\n",
    "    pd.read_csv('./DXYArea.csv')\n",
    "    .query('countryEnglishName==\"China\"')\n",
    "    .query('province_confirmedCount!=0')\n",
    "    .loc[:,['provinceEnglishName','province_confirmedCount','province_curedCount','province_deadCount','updateTime']]\n",
    "    .rename(columns={'provinceEnglishName':'Name','province_confirmedCount':'confirmed','province_curedCount':'cured','province_deadCount':'dead'})\n",
    "    .copy()\n",
    ")\n",
    "\n",
    "china_df['date_str'] = china_df['updateTime'].apply(lambda x:pd.to_datetime(x).date().strftime('%Y-%m-%d'))\n",
    "\n",
    "china_df = (\n",
    "    china_df\n",
    "    # Keep the max value for a day\n",
    "    .groupby(['Name','date_str'],sort=False).max()\n",
    "    .reset_index(level=1)\n",
    "    # Drop summary\n",
    "    .drop('China')\n",
    "    # Rename for some provinces\n",
    "    .rename(index=name2map)\n",
    "    # Sort by date\n",
    "    .set_index('date_str',append=True)\n",
    ")\n",
    "\n",
    "# Define existed = confirmed - cured - dead\n",
    "china_df['existed'] = (china_df['confirmed'] - china_df['cured'] - china_df['dead'])\n"
   ]
  },
  {
   "cell_type": "markdown",
   "metadata": {},
   "source": [
    "### Clean data\n",
    "- linear interpolate\n",
    "- fillna(0)\n",
    "- +0.1, log10"
   ]
  },
  {
   "cell_type": "code",
   "execution_count": 4,
   "metadata": {},
   "outputs": [],
   "source": [
    "# Clean data\n",
    "clean_df = pd.DataFrame(\n",
    "    index=pd.MultiIndex.from_product([geo_data.keys(),date_str]),\n",
    "    columns=china_df.columns,\n",
    ")\n",
    "\n",
    "# For each province\n",
    "for g,df in china_df.reset_index().groupby('Name',sort=False):\n",
    "    ndf = (\n",
    "        df.set_index('date_str')\n",
    "        # Sort by date\n",
    "        .reindex(index=date_str)\n",
    "        # Fill the name\n",
    "        .assign(Name=g)\n",
    "        .set_index('Name',append=True)\n",
    "        # Interpolate missing values\n",
    "        .interpolate()\n",
    "        # Fillna by 0\n",
    "        .fillna(0)\n",
    "    )\n",
    "    clean_df.loc[ndf.index.swaplevel(0,1)] = ndf.values\n",
    "\n",
    "clean_df['color'] = plt.cm.Reds(\n",
    "    Normalize(0, 5, clip=True)(\n",
    "        np.log10( clean_df['existed'].astype(int)+0.1 ).values\n",
    "    )\n",
    ").tolist()"
   ]
  },
  {
   "cell_type": "markdown",
   "metadata": {},
   "source": [
    "---"
   ]
  },
  {
   "cell_type": "code",
   "execution_count": 5,
   "metadata": {},
   "outputs": [
    {
     "data": {
      "application/vnd.jupyter.widget-view+json": {
       "model_id": "fb81cffa162345bdbcac98a0dbd7bf49",
       "version_major": 2,
       "version_minor": 0
      },
      "text/plain": [
       "HBox(children=(FloatProgress(value=0.0, max=62.0), HTML(value='')))"
      ]
     },
     "metadata": {},
     "output_type": "display_data"
    },
    {
     "name": "stdout",
     "output_type": "stream",
     "text": [
      "\n"
     ]
    }
   ],
   "source": [
    "files = []\n",
    "for n,d in tqdm(enumerate(date_str), total=date_str.shape[0]):\n",
    "    \n",
    "    file_name = 'frames/frame_{:02d}.jpg'.format(n)\n",
    "    files.append(file_name)\n",
    "    \n",
    "    if os.path.exists(file_name):\n",
    "        continue\n",
    "    \n",
    "    ndf = clean_df.xs(d,level=1)\n",
    "\n",
    "    # Plot the main land\n",
    "    fig = plt.figure(figsize=(8,8))\n",
    "    ax = fig.add_subplot(projection=ccrs.LambertConformal(central_latitude=90,central_longitude=105))\n",
    "    ax.set_extent([80, 130, 13, 55])\n",
    "    ax.add_feature(cfeature.LAND.with_scale('50m'), facecolor='white', alpha=0.5)\n",
    "    ax.add_feature(cfeature.OCEAN.with_scale('110m'))\n",
    "    ax.add_feature(cfeature.COASTLINE.with_scale('110m'), zorder=1000)\n",
    "    ax.add_feature(cfeature.BORDERS.with_scale('110m'), zorder=1000)\n",
    "\n",
    "    # Plot provinces\n",
    "    for k in geo_data.keys():\n",
    "        if k in ndf.index:\n",
    "            gcolor = ndf.loc[k,'color']\n",
    "        else:\n",
    "            gcolor = 'white'\n",
    "    \n",
    "        ax.add_geometries(\n",
    "            geo_data[k],\n",
    "            crs=ccrs.PlateCarree(),\n",
    "            facecolor=gcolor,\n",
    "            lw=0.1,\n",
    "            edgecolor='k',\n",
    "            zorder=0\n",
    "        )\n",
    "    \n",
    "    ax.set_title(d, fontsize=24)\n",
    "    \n",
    "    # Add color bar\n",
    "    cax = fig.add_axes([0.825, 0.2, 0.02, 0.2])\n",
    "    fig.colorbar(\n",
    "        plt.cm.ScalarMappable(norm=Normalize(0, 5, clip=True), cmap='Reds'), \n",
    "        cax=cax,\n",
    "#         extend='max',\n",
    "    )\n",
    "    cax.set_yticklabels(['$10^{:d}$'.format(x) for x in np.arange(0,6)], fontsize=12, ha='left',va='center')\n",
    "    \n",
    "    fig.savefig(file_name, dpi=150, facecolor=None)\n",
    "    \n",
    "    plt.close(fig)\n",
    "    \n"
   ]
  },
  {
   "cell_type": "markdown",
   "metadata": {},
   "source": [
    "---"
   ]
  },
  {
   "cell_type": "markdown",
   "metadata": {},
   "source": [
    "## Merge jpg to gif"
   ]
  },
  {
   "cell_type": "code",
   "execution_count": 7,
   "metadata": {},
   "outputs": [
    {
     "name": "stdout",
     "output_type": "stream",
     "text": [
      "ffmpeg version 4.2.2 Copyright (c) 2000-2019 the FFmpeg developers\n",
      "  built with Apple clang version 11.0.0 (clang-1100.0.33.17)\n",
      "  configuration: --prefix=/usr/local/Cellar/ffmpeg/4.2.2_2 --enable-shared --enable-pthreads --enable-version3 --enable-avresample --cc=clang --host-cflags= --host-ldflags= --enable-ffplay --enable-gnutls --enable-gpl --enable-libaom --enable-libbluray --enable-libmp3lame --enable-libopus --enable-librubberband --enable-libsnappy --enable-libtesseract --enable-libtheora --enable-libvidstab --enable-libvorbis --enable-libvpx --enable-libwebp --enable-libx264 --enable-libx265 --enable-libxvid --enable-lzma --enable-libfontconfig --enable-libfreetype --enable-frei0r --enable-libass --enable-libopencore-amrnb --enable-libopencore-amrwb --enable-libopenjpeg --enable-librtmp --enable-libspeex --enable-libsoxr --enable-videotoolbox --disable-libjack --disable-indev=jack\n",
      "  libavutil      56. 31.100 / 56. 31.100\n",
      "  libavcodec     58. 54.100 / 58. 54.100\n",
      "  libavformat    58. 29.100 / 58. 29.100\n",
      "  libavdevice    58.  8.100 / 58.  8.100\n",
      "  libavfilter     7. 57.100 /  7. 57.100\n",
      "  libavresample   4.  0.  0 /  4.  0.  0\n",
      "  libswscale      5.  5.100 /  5.  5.100\n",
      "  libswresample   3.  5.100 /  3.  5.100\n",
      "  libpostproc    55.  5.100 / 55.  5.100\n",
      "Input #0, image2, from './frames/frame_%002d.jpg':\n",
      "  Duration: 00:00:10.33, start: 0.000000, bitrate: N/A\n",
      "    Stream #0:0: Video: mjpeg (Baseline), yuvj420p(pc, bt470bg/unknown/unknown), 1200x1200 [SAR 150:150 DAR 1:1], 6 fps, 6 tbr, 6 tbn, 6 tbc\n",
      "Stream mapping:\n",
      "  Stream #0:0 -> #0:0 (mjpeg (native) -> gif (native))\n",
      "Press [q] to stop, [?] for help\n",
      "\u001b[1;34m[swscaler @ 0x10e71a000] \u001b[0m\u001b[0;33mdeprecated pixel format used, make sure you did set range correctly\n",
      "\u001b[0m\u001b[1;34m[swscaler @ 0x10e71a000] \u001b[0m\u001b[0;33mNo accelerated colorspace conversion found from yuv420p to bgr8.\n",
      "\u001b[0mOutput #0, gif, to 'China.gif':\n",
      "  Metadata:\n",
      "    encoder         : Lavf58.29.100\n",
      "    Stream #0:0: Video: gif, bgr8, 1200x1200 [SAR 1:1 DAR 1:1], q=2-31, 200 kb/s, 6 fps, 100 tbn, 6 tbc\n",
      "    Metadata:\n",
      "      encoder         : Lavc58.54.100 gif\n",
      "frame=   62 fps= 53 q=-0.0 Lsize=    1657kB time=00:00:10.18 bitrate=1333.1kbits/s speed=8.73x    \n",
      "video:1657kB audio:0kB subtitle:0kB other streams:0kB global headers:0kB muxing overhead: 0.001179%\n"
     ]
    }
   ],
   "source": [
    "! ffmpeg -f image2 -framerate 6 -y -i ./frames/frame_%002d.jpg China.gif"
   ]
  },
  {
   "cell_type": "code",
   "execution_count": 6,
   "metadata": {},
   "outputs": [],
   "source": [
    "# with imageio.get_writer('./China.gif', mode='I') as writer:\n",
    "#     for file_name in files:\n",
    "#         image = imageio.imread(file_name)\n",
    "#         writer.append_data(image)\n",
    "        \n",
    "# from pygifsicle import optimize\n",
    "# optimize('./China.gif')"
   ]
  },
  {
   "cell_type": "markdown",
   "metadata": {},
   "source": [
    "---\n",
    "---\n",
    "---"
   ]
  },
  {
   "cell_type": "code",
   "execution_count": 8,
   "metadata": {},
   "outputs": [],
   "source": [
    "# fig = plt.figure(figsize=(8,8))\n",
    "# ax = fig.add_subplot(projection=ccrs.LambertConformal(central_latitude=90,central_longitude=105))\n",
    "\n",
    "# ax.set_extent([80, 130, 13, 55])\n",
    "# ax.add_feature(cfeature.LAND.with_scale('50m'), facecolor='white', alpha=0.5)\n",
    "# ax.add_feature(cfeature.OCEAN.with_scale('110m'))\n",
    "# ax.add_feature(cfeature.COASTLINE.with_scale('110m'), zorder=1000)\n",
    "# ax.add_feature(cfeature.BORDERS.with_scale('110m'), zorder=1000)\n",
    "\n",
    "# for k in geo_data.keys():\n",
    "#     if k in ndf.index:\n",
    "#         c = ndf.loc[k,'color']\n",
    "#     else:\n",
    "#         c = 'white'\n",
    "#     ax.add_geometries(\n",
    "#         geo_data[k],\n",
    "#         crs=ccrs.PlateCarree(),\n",
    "#         facecolor=c,\n",
    "#         lw=0.1,\n",
    "#         edgecolor='k',\n",
    "# #         hatch='//',\n",
    "#         zorder=0\n",
    "        \n",
    "#     )\n",
    "    \n",
    "#     ax.set_title(d, fontsize=24)\n",
    "    \n",
    "#     cax = fig.add_axes([0.825, 0.2, 0.02, 0.2])\n",
    "#     fig.colorbar(\n",
    "#         plt.cm.ScalarMappable(norm=Normalize(0, 5), cmap='Reds'), \n",
    "#         cax=cax\n",
    "#     )\n",
    "    \n",
    "#     cax.set_yticklabels(['$10^0$','$10^1$','$10^2$','$10^3$','$10^4$','$10^5$'], fontsize=12, ha='left',va='center')\n",
    "    \n",
    "#     plt.show()\n",
    "\n"
   ]
  },
  {
   "cell_type": "code",
   "execution_count": 9,
   "metadata": {},
   "outputs": [],
   "source": [
    "# # https://gmt-china.org/\n",
    "# with open('CN-border-La.dat') as src:\n",
    "#     context = src.read()\n",
    "#     blocks = [cnt for cnt in context.split('>') if len(cnt) > 0]\n",
    "#     borders = [np.fromstring(block, dtype=float, sep=' ') for block in blocks]\n",
    "\n",
    "# for line in borders:\n",
    "#     ax.plot(\n",
    "#         line[0::2], line[1::2],\n",
    "#         '-', lw=1, color='k', \n",
    "#         transform=ccrs.Geodetic(),\n",
    "#     )"
   ]
  },
  {
   "cell_type": "code",
   "execution_count": null,
   "metadata": {},
   "outputs": [],
   "source": []
  },
  {
   "cell_type": "code",
   "execution_count": null,
   "metadata": {},
   "outputs": [],
   "source": []
  }
 ],
 "metadata": {
  "kernelspec": {
   "display_name": "Python [conda env:root] *",
   "language": "python",
   "name": "conda-root-py"
  },
  "language_info": {
   "codemirror_mode": {
    "name": "ipython",
    "version": 3
   },
   "file_extension": ".py",
   "mimetype": "text/x-python",
   "name": "python",
   "nbconvert_exporter": "python",
   "pygments_lexer": "ipython3",
   "version": "3.7.6"
  }
 },
 "nbformat": 4,
 "nbformat_minor": 4
}
