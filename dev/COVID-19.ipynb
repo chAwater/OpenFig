{
 "cells": [
  {
   "cell_type": "code",
   "execution_count": 1,
   "metadata": {},
   "outputs": [],
   "source": [
    "import os\n",
    "\n",
    "import numpy  as np\n",
    "import pandas as pd\n",
    "\n",
    "import matplotlib.pyplot as plt\n",
    "import seaborn as sns\n",
    "\n",
    "from matplotlib.colors import Normalize\n",
    "\n",
    "import cartopy.crs as ccrs\n",
    "import cartopy.feature as cfeature\n",
    "import cartopy.io.shapereader as shpreader"
   ]
  },
  {
   "cell_type": "code",
   "execution_count": 2,
   "metadata": {},
   "outputs": [],
   "source": [
    "from tqdm.auto import tqdm"
   ]
  },
  {
   "cell_type": "markdown",
   "metadata": {},
   "source": [
    "## Data for GEO"
   ]
  },
  {
   "cell_type": "code",
   "execution_count": 3,
   "metadata": {},
   "outputs": [],
   "source": [
    "name2map = {\n",
    "    'Neimenggu':'Nei Mongol',\n",
    "    'Ningxia':'Ningxia Hui',\n",
    "    'Xinjiang':'Xinjiang Uygur',\n",
    "    'Macau':'Macao',\n",
    "}\n",
    "\n",
    "geo_data = {}\n",
    "\n",
    "for record in shpreader.Reader('./data_GADM/gadm36_CHN_1.shp').records():\n",
    "    name = record.attributes['NAME_1']\n",
    "    geo  = record.geometry\n",
    "    geo_data[name] = geo\n",
    "\n",
    "for sp in ['HKG','MAC','TWN']:\n",
    "    record = list(shpreader.Reader('./data_GADM/gadm36_{0}_0.shp'.format(sp)).records())[0]\n",
    "    name = record.attributes['NAME_0']\n",
    "    geo = record.geometry\n",
    "    geo_data[name] = geo\n",
    "\n",
    "date_str = pd.date_range(start='2020-01-22',end='2020-03-23').strftime('%Y-%m-%d')"
   ]
  },
  {
   "cell_type": "markdown",
   "metadata": {},
   "source": [
    "## Load data from DXY\n",
    "- Keep the max value for a day\n",
    "- Define `existed` = `confirmed` - `cured` - `dead`"
   ]
  },
  {
   "cell_type": "code",
   "execution_count": 4,
   "metadata": {},
   "outputs": [],
   "source": [
    "china_df = (\n",
    "    pd.read_csv('./DXYArea.csv')\n",
    "    .query('countryEnglishName==\"China\"')\n",
    "    .query('province_confirmedCount!=0')\n",
    "    .loc[:,['provinceEnglishName','province_confirmedCount','province_curedCount','province_deadCount','updateTime']]\n",
    "    .rename(columns={'provinceEnglishName':'Name','province_confirmedCount':'confirmed','province_curedCount':'cured','province_deadCount':'dead'})\n",
    "    .copy()\n",
    ")\n",
    "\n",
    "china_df['date_str'] = china_df['updateTime'].apply(lambda x:pd.to_datetime(x).date().strftime('%Y-%m-%d'))\n",
    "\n",
    "china_df = (\n",
    "    china_df\n",
    "    .groupby(['Name','date_str'],sort=False).max()\n",
    "    .reset_index(level=1)\n",
    "    .drop('China')\n",
    "    .rename(index=name2map)\n",
    "    .set_index('date_str',append=True)\n",
    ")\n",
    "china_df['existed'] = (china_df['confirmed'] - china_df['cured'] - china_df['dead'])\n"
   ]
  },
  {
   "cell_type": "markdown",
   "metadata": {},
   "source": [
    "### Clean data\n",
    "- linear interpolate\n",
    "- fillna(0)\n",
    "- +0.1, log10"
   ]
  },
  {
   "cell_type": "code",
   "execution_count": 5,
   "metadata": {},
   "outputs": [],
   "source": [
    "\n",
    "clean_df = pd.DataFrame(\n",
    "    index=pd.MultiIndex.from_product([geo_data.keys(),date_str]),\n",
    "    columns=china_df.columns,\n",
    ")\n",
    "\n",
    "for g,df in china_df.reset_index().groupby('Name',sort=False):\n",
    "    ndf = df.set_index('date_str').reindex(index=date_str).assign(Name=g).set_index('Name',append=True).interpolate().fillna(0)\n",
    "    clean_df.loc[ndf.index.swaplevel(0,1)] = ndf.values\n",
    "\n",
    "clean_df['color'] = plt.cm.Reds(Normalize(0, 5)(np.log10(clean_df['existed'].astype(int)+0.1).values)).tolist()\n",
    "\n"
   ]
  },
  {
   "cell_type": "markdown",
   "metadata": {},
   "source": [
    "---"
   ]
  },
  {
   "cell_type": "code",
   "execution_count": 6,
   "metadata": {},
   "outputs": [
    {
     "data": {
      "application/vnd.jupyter.widget-view+json": {
       "model_id": "674ecea462e84afe8c18189826f678b3",
       "version_major": 2,
       "version_minor": 0
      },
      "text/plain": [
       "HBox(children=(FloatProgress(value=0.0, max=62.0), HTML(value='')))"
      ]
     },
     "metadata": {},
     "output_type": "display_data"
    },
    {
     "name": "stdout",
     "output_type": "stream",
     "text": [
      "\n"
     ]
    }
   ],
   "source": [
    "for n,d in tqdm(enumerate(date_str), total=date_str.shape[0]):\n",
    "    \n",
    "    if os.path.exists('frames/frame_{:02d}.png'.format(n)):\n",
    "        continue\n",
    "    \n",
    "    ndf = clean_df.xs(d,level=1)\n",
    "    \n",
    "    fig = plt.figure(figsize=(8,8))\n",
    "    ax = fig.add_subplot(projection=ccrs.LambertConformal(central_latitude=90,central_longitude=105))\n",
    "    \n",
    "    ax.set_extent([80, 130, 13, 55])\n",
    "    ax.add_feature(cfeature.LAND.with_scale('50m'), facecolor='white', alpha=0.5)\n",
    "    ax.add_feature(cfeature.OCEAN.with_scale('110m'))\n",
    "    ax.add_feature(cfeature.COASTLINE.with_scale('110m'), zorder=1000)\n",
    "    ax.add_feature(cfeature.BORDERS.with_scale('110m'), zorder=1000)\n",
    "    \n",
    "    for k in geo_data.keys():\n",
    "        if k in ndf.index:\n",
    "            gcolor = ndf.loc[k,'color']\n",
    "        else:\n",
    "            gcolor = 'white'\n",
    "    \n",
    "        ax.add_geometries(\n",
    "            geo_data[k],\n",
    "            crs=ccrs.PlateCarree(),\n",
    "            facecolor=gcolor,\n",
    "            lw=0.1,\n",
    "            edgecolor='k',\n",
    "            zorder=0\n",
    "        )\n",
    "    \n",
    "    ax.set_title(d, fontsize=24)\n",
    "    \n",
    "    cax = fig.add_axes([0.825, 0.2, 0.02, 0.2])\n",
    "    \n",
    "    fig.colorbar(\n",
    "        plt.cm.ScalarMappable(norm=Normalize(0, 5), cmap='Reds'), \n",
    "        cax=cax\n",
    "    )\n",
    "    \n",
    "    cax.set_yticklabels(['$10^0$','$10^1$','$10^2$','$10^3$','$10^4$','$10^5$'], fontsize=12, ha='left',va='center')\n",
    "    \n",
    "    fig.savefig('frames/frame_{:02d}.png'.format(n), dpi=100, facecolor=None)\n",
    "    \n",
    "    plt.close(fig)\n",
    "    \n",
    "#     break"
   ]
  },
  {
   "cell_type": "code",
   "execution_count": null,
   "metadata": {},
   "outputs": [],
   "source": []
  },
  {
   "cell_type": "markdown",
   "metadata": {},
   "source": [
    "---"
   ]
  },
  {
   "cell_type": "code",
   "execution_count": 7,
   "metadata": {},
   "outputs": [],
   "source": [
    "# fig = plt.figure(figsize=(8,8))\n",
    "# ax = fig.add_subplot(projection=ccrs.LambertConformal(central_latitude=90,central_longitude=105))\n",
    "\n",
    "# ax.set_extent([80, 130, 13, 55])\n",
    "# ax.add_feature(cfeature.LAND.with_scale('50m'), facecolor='white', alpha=0.5)\n",
    "# ax.add_feature(cfeature.OCEAN.with_scale('110m'))\n",
    "# ax.add_feature(cfeature.COASTLINE.with_scale('110m'), zorder=1000)\n",
    "# ax.add_feature(cfeature.BORDERS.with_scale('110m'), zorder=1000)\n",
    "\n",
    "# for k in geo_data.keys():\n",
    "#     if k in ndf.index:\n",
    "#         c = ndf.loc[k,'color']\n",
    "#     else:\n",
    "#         c = 'white'\n",
    "#     ax.add_geometries(\n",
    "#         geo_data[k],\n",
    "#         crs=ccrs.PlateCarree(),\n",
    "#         facecolor=c,\n",
    "#         lw=0.1,\n",
    "#         edgecolor='k',\n",
    "# #         hatch='//',\n",
    "#         zorder=0\n",
    "        \n",
    "#     )\n",
    "    \n",
    "#     ax.set_title(d, fontsize=24)\n",
    "    \n",
    "#     cax = fig.add_axes([0.825, 0.2, 0.02, 0.2])\n",
    "#     fig.colorbar(\n",
    "#         plt.cm.ScalarMappable(norm=Normalize(0, 5), cmap='Reds'), \n",
    "#         cax=cax\n",
    "#     )\n",
    "    \n",
    "#     cax.set_yticklabels(['$10^0$','$10^1$','$10^2$','$10^3$','$10^4$','$10^5$'], fontsize=12, ha='left',va='center')\n",
    "    \n",
    "#     plt.show()\n",
    "\n"
   ]
  },
  {
   "cell_type": "code",
   "execution_count": 8,
   "metadata": {},
   "outputs": [],
   "source": [
    "# # https://gmt-china.org/\n",
    "# with open('CN-border-La.dat') as src:\n",
    "#     context = src.read()\n",
    "#     blocks = [cnt for cnt in context.split('>') if len(cnt) > 0]\n",
    "#     borders = [np.fromstring(block, dtype=float, sep=' ') for block in blocks]\n",
    "\n",
    "# for line in borders:\n",
    "#     ax.plot(\n",
    "#         line[0::2], line[1::2],\n",
    "#         '-', lw=1, color='k', \n",
    "#         transform=ccrs.Geodetic(),\n",
    "#     )"
   ]
  },
  {
   "cell_type": "code",
   "execution_count": null,
   "metadata": {},
   "outputs": [],
   "source": []
  },
  {
   "cell_type": "code",
   "execution_count": null,
   "metadata": {},
   "outputs": [],
   "source": []
  },
  {
   "cell_type": "code",
   "execution_count": null,
   "metadata": {},
   "outputs": [],
   "source": []
  }
 ],
 "metadata": {
  "kernelspec": {
   "display_name": "Python [conda env:root] *",
   "language": "python",
   "name": "conda-root-py"
  },
  "language_info": {
   "codemirror_mode": {
    "name": "ipython",
    "version": 3
   },
   "file_extension": ".py",
   "mimetype": "text/x-python",
   "name": "python",
   "nbconvert_exporter": "python",
   "pygments_lexer": "ipython3",
   "version": "3.7.6"
  }
 },
 "nbformat": 4,
 "nbformat_minor": 4
}
