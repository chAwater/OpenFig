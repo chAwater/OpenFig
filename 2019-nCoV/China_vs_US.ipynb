{
 "cells": [
  {
   "cell_type": "code",
   "execution_count": 1,
   "metadata": {},
   "outputs": [],
   "source": [
    "import os\n",
    "\n",
    "from tqdm.auto import tqdm\n",
    "\n",
    "import numpy  as np\n",
    "import pandas as pd\n",
    "\n",
    "import matplotlib.pyplot as plt\n",
    "import seaborn as sns\n",
    "\n",
    "from matplotlib.cm     import ScalarMappable\n",
    "from matplotlib.colors import Normalize\n",
    "\n",
    "import cartopy.crs as ccrs\n",
    "import cartopy.feature as cfeature\n",
    "import cartopy.io.shapereader as shpreader"
   ]
  },
  {
   "cell_type": "code",
   "execution_count": 2,
   "metadata": {},
   "outputs": [],
   "source": [
    "# https://gist.github.com/JeffPaine/3083347\n",
    "# https://gist.github.com/tlancon/9794920a0c3a9990279de704f936050c\n",
    "US_STATES = {\n",
    "\t'Alabama': 'AL',\n",
    "\t'Alaska': 'AK',\n",
    "\t'Arizona': 'AZ',\n",
    "\t'Arkansas': 'AR',\n",
    "\t'California': 'CA',\n",
    "\t'Colorado': 'CO',\n",
    "\t'Connecticut': 'CT',\n",
    "\t'Delaware': 'DE',\n",
    "\t'District of Columbia': 'DC',\n",
    "\t'Florida': 'FL',\n",
    "\t'Georgia': 'GA',\n",
    "\t'Hawaii': 'HI',\n",
    "\t'Idaho': 'ID',\n",
    "\t'Illinois': 'IL',\n",
    "\t'Indiana': 'IN',\n",
    "\t'Iowa': 'IA',\n",
    "\t'Kansas': 'KS',\n",
    "\t'Kentucky': 'KY',\n",
    "\t'Louisiana': 'LA',\n",
    "\t'Maine': 'ME',\n",
    "\t'Maryland': 'MD',\n",
    "\t'Massachusetts': 'MA',\n",
    "\t'Michigan': 'MI',\n",
    "\t'Minnesota': 'MN',\n",
    "\t'Mississippi': 'MS',\n",
    "\t'Missouri': 'MO',\n",
    "\t'Montana': 'MT',\n",
    "\t'Nebraska': 'NE',\n",
    "\t'Nevada': 'NV',\n",
    "\t'New Hampshire': 'NH',\n",
    "\t'New Jersey': 'NJ',\n",
    "\t'New Mexico': 'NM',\n",
    "\t'New York': 'NY',\n",
    "\t'North Carolina': 'NC',\n",
    "\t'North Dakota': 'ND',\n",
    "\t'Ohio': 'OH',\n",
    "\t'Oklahoma': 'OK',\n",
    "\t'Oregon': 'OR',\n",
    "\t'Pennsylvania': 'PA',\n",
    "\t'Rhode Island': 'RI',\n",
    "\t'South Carolina': 'SC',\n",
    "\t'South Dakota': 'SD',\n",
    "\t'Tennessee': 'TN',\n",
    "\t'Texas': 'TX',\n",
    "\t'Utah': 'UT',\n",
    "\t'Vermont': 'VT',\n",
    "\t'Virginia': 'VA',\n",
    "\t'Washington': 'WA',\n",
    "\t'West Virginia': 'WV',\n",
    "\t'Wisconsin': 'WI',\n",
    "\t'Wyoming': 'WY'\n",
    "}"
   ]
  },
  {
   "cell_type": "code",
   "execution_count": 3,
   "metadata": {},
   "outputs": [],
   "source": [
    "name2map = {\n",
    "    'Inner Mongolia':'Nei Mongol',\n",
    "    'Ningxia':'Ningxia Hui',\n",
    "    'Xinjiang':'Xinjiang Uygur',\n",
    "    'Macau':'Macao',\n",
    "    'Tibet':'Xizang'\n",
    "}"
   ]
  },
  {
   "cell_type": "code",
   "execution_count": 4,
   "metadata": {},
   "outputs": [],
   "source": [
    "color_mapper = ScalarMappable(norm=Normalize(0,5,clip=True), cmap='Reds')"
   ]
  },
  {
   "cell_type": "code",
   "execution_count": 5,
   "metadata": {},
   "outputs": [],
   "source": [
    "china_geo_data = {}\n",
    "usa_geo_data = {}\n",
    "\n",
    "# 中国大陆\n",
    "for record in shpreader.Reader('./data_GADM/gadm36_CHN_1.shp').records():\n",
    "    name = record.attributes['NAME_1']\n",
    "    geo  = record.geometry\n",
    "    china_geo_data[name] = geo\n",
    "\n",
    "# 香港、澳门、台湾\n",
    "for sp in ['HKG','MAC','TWN']:\n",
    "    record = list(shpreader.Reader('./data_GADM/gadm36_{:s}_0.shp'.format(sp)).records())[0]\n",
    "    name = record.attributes['NAME_0']\n",
    "    geo  = record.geometry\n",
    "    china_geo_data[name] = geo\n",
    "\n",
    "# USA\n",
    "for record in shpreader.Reader(shpreader.natural_earth(resolution='110m',category='cultural', name='admin_1_states_provinces')).records():\n",
    "    name = record.attributes['name']\n",
    "    geo  = record.geometry\n",
    "    usa_geo_data[name] = geo"
   ]
  },
  {
   "cell_type": "code",
   "execution_count": 6,
   "metadata": {},
   "outputs": [],
   "source": [
    "usa_data = []\n",
    "china_data = []\n",
    "\n",
    "for file_type in ['Confirmed','Deaths','Recovered']:\n",
    "    total_data_df = pd.read_csv('time_series_19-covid-{:s}.csv'.format(file_type)).set_index('Country/Region')\n",
    "\n",
    "    date_idx = total_data_df.columns.drop(['Province/State','Lat','Long'])\n",
    "    date_str = pd.to_datetime(date_idx.tolist()).strftime('%Y-%m-%d')\n",
    "    data_dict = dict(zip(date_idx, date_str))\n",
    "\n",
    "    usa_data_df   = (\n",
    "        total_data_df.loc['US']\n",
    "        .set_index('Province/State')\n",
    "        .loc[US_STATES.keys()]\n",
    "        .fillna(0)\n",
    "        .rename(columns=data_dict)\n",
    "    )\n",
    "\n",
    "    china_data_df = (\n",
    "        total_data_df.loc['China']\n",
    "        .append(\n",
    "            total_data_df.loc['Taiwan*'].fillna('Taiwan')\n",
    "        )\n",
    "        .set_index('Province/State')\n",
    "        .rename(index=name2map)\n",
    "        .loc[china_geo_data.keys()]\n",
    "        .fillna(0)\n",
    "        .rename(columns=data_dict)\n",
    "    )\n",
    "\n",
    "\n",
    "    usa_data_df.loc[  :,date_str] = usa_data_df.loc[  :,date_str].astype(int)\n",
    "    china_data_df.loc[:,date_str] = china_data_df.loc[:,date_str].astype(int)\n",
    "\n",
    "    usa_data.append(usa_data_df)\n",
    "    china_data.append(china_data_df)\n",
    "    \n",
    "usa_data_df   = usa_data[0] - usa_data[1] - usa_data[2]\n",
    "china_data_df = china_data[0] - china_data[1] - china_data[2]\n",
    "\n",
    "usa_data_df.loc[:,['Lat','Long']] *= -1\n",
    "china_data_df.loc[:,['Lat','Long']] *= -1"
   ]
  },
  {
   "cell_type": "markdown",
   "metadata": {},
   "source": [
    "---"
   ]
  },
  {
   "cell_type": "code",
   "execution_count": 7,
   "metadata": {},
   "outputs": [],
   "source": [
    "def plot_main_land(ax):\n",
    "    '''\n",
    "    Plot the main land, ocean, coastline and borders\n",
    "    '''        \n",
    "    ax.add_feature(cfeature.LAND.with_scale('110m'), facecolor='white', alpha=0.5)\n",
    "    ax.add_feature(cfeature.OCEAN.with_scale('110m'))\n",
    "    ax.add_feature(cfeature.COASTLINE.with_scale('110m'), zorder=100)\n",
    "    ax.add_feature(cfeature.BORDERS.with_scale('110m'), zorder=100)\n",
    "\n",
    "    return \n",
    "\n",
    "def plot_states(ax, df, geo_data):\n",
    "    '''\n",
    "    Plot provinces/states\n",
    "    '''\n",
    "    for k in geo_data.keys():\n",
    "        if df[k]==0:\n",
    "            gcolor = 'white'\n",
    "        else:\n",
    "            gcolor = color_mapper.to_rgba( np.log10(df[k]) )\n",
    "    \n",
    "        ax.add_geometries(\n",
    "            geo_data[k],\n",
    "            crs=ccrs.PlateCarree(),\n",
    "            facecolor=gcolor,\n",
    "            lw=0.1,\n",
    "            edgecolor='k',\n",
    "            zorder=0\n",
    "        )\n",
    "\n",
    "    cax = ax.inset_axes([0.9, 0.05, 0.02, 0.35])\n",
    "    plt.colorbar( color_mapper, cax=cax, extend='max', ticks=np.arange(0,6) )\n",
    "    cax.set_yticklabels(['$10^{:d}$'.format(x) for x in np.arange(0,6)], fontsize=10, ha='left',va='center')\n",
    "\n",
    "    return"
   ]
  },
  {
   "cell_type": "code",
   "execution_count": 8,
   "metadata": {},
   "outputs": [],
   "source": [
    "def two_countries_plot(df1, df2):\n",
    "    fig = plt.figure(figsize=(14,5))\n",
    "    ax1 = fig.add_subplot(121, projection=ccrs.LambertConformal(central_latitude=90,central_longitude=105))\n",
    "    ax2 = fig.add_subplot(122, projection=ccrs.LambertConformal())\n",
    "\n",
    "    ax1.set_title('China', fontsize=24)\n",
    "    ax2.set_title('US', fontsize=24)\n",
    "\n",
    "    ax1.set_extent([80, 130, 15, 53])\n",
    "    ax2.set_extent([-120, -70, 22, 53])\n",
    "    \n",
    "    plot_main_land(ax1)\n",
    "    plot_main_land(ax2)\n",
    "\n",
    "    plot_states(ax1, df1, china_geo_data)\n",
    "    plot_states(ax2, df2, usa_geo_data)\n",
    "\n",
    "    return fig"
   ]
  },
  {
   "cell_type": "code",
   "execution_count": 9,
   "metadata": {},
   "outputs": [
    {
     "data": {
      "application/vnd.jupyter.widget-view+json": {
       "model_id": "39ece563ab794e848c4bfe5951813d2e",
       "version_major": 2,
       "version_minor": 0
      },
      "text/plain": [
       "HBox(children=(FloatProgress(value=0.0, max=62.0), HTML(value='')))"
      ]
     },
     "metadata": {},
     "output_type": "display_data"
    },
    {
     "name": "stdout",
     "output_type": "stream",
     "text": [
      "\n"
     ]
    }
   ],
   "source": [
    "files = []\n",
    "for n,d in tqdm(enumerate(date_str), total=date_str.shape[0]):\n",
    "    \n",
    "    file_name = 'frames/frame_{:02d}.jpg'.format(n)\n",
    "    files.append(file_name)\n",
    "    \n",
    "    if os.path.exists(file_name):\n",
    "        continue\n",
    "    \n",
    "    ndf1 = china_data_df[d]\n",
    "    ndf2 = usa_data_df[d]\n",
    "    \n",
    "    fig = two_countries_plot(ndf1, ndf2)\n",
    "    fig.suptitle(d,fontsize=32)\n",
    "\n",
    "    fig.savefig(file_name, dpi=150, facecolor=None)\n",
    "    \n",
    "    plt.close(fig)\n",
    "    \n"
   ]
  },
  {
   "cell_type": "code",
   "execution_count": 10,
   "metadata": {},
   "outputs": [
    {
     "name": "stdout",
     "output_type": "stream",
     "text": [
      "ffmpeg version 4.2.2 Copyright (c) 2000-2019 the FFmpeg developers\n",
      "  built with Apple clang version 11.0.0 (clang-1100.0.33.17)\n",
      "  configuration: --prefix=/usr/local/Cellar/ffmpeg/4.2.2_2 --enable-shared --enable-pthreads --enable-version3 --enable-avresample --cc=clang --host-cflags= --host-ldflags= --enable-ffplay --enable-gnutls --enable-gpl --enable-libaom --enable-libbluray --enable-libmp3lame --enable-libopus --enable-librubberband --enable-libsnappy --enable-libtesseract --enable-libtheora --enable-libvidstab --enable-libvorbis --enable-libvpx --enable-libwebp --enable-libx264 --enable-libx265 --enable-libxvid --enable-lzma --enable-libfontconfig --enable-libfreetype --enable-frei0r --enable-libass --enable-libopencore-amrnb --enable-libopencore-amrwb --enable-libopenjpeg --enable-librtmp --enable-libspeex --enable-libsoxr --enable-videotoolbox --disable-libjack --disable-indev=jack\n",
      "  libavutil      56. 31.100 / 56. 31.100\n",
      "  libavcodec     58. 54.100 / 58. 54.100\n",
      "  libavformat    58. 29.100 / 58. 29.100\n",
      "  libavdevice    58.  8.100 / 58.  8.100\n",
      "  libavfilter     7. 57.100 /  7. 57.100\n",
      "  libavresample   4.  0.  0 /  4.  0.  0\n",
      "  libswscale      5.  5.100 /  5.  5.100\n",
      "  libswresample   3.  5.100 /  3.  5.100\n",
      "  libpostproc    55.  5.100 / 55.  5.100\n",
      "Input #0, image2, from './frames/frame_%002d.jpg':\n",
      "  Duration: 00:00:10.33, start: 0.000000, bitrate: N/A\n",
      "    Stream #0:0: Video: mjpeg (Baseline), yuvj420p(pc, bt470bg/unknown/unknown), 2100x750 [SAR 150:150 DAR 14:5], 6 fps, 6 tbr, 6 tbn, 6 tbc\n",
      "Stream mapping:\n",
      "  Stream #0:0 -> #0:0 (mjpeg (native) -> gif (native))\n",
      "Press [q] to stop, [?] for help\n",
      "\u001b[1;34m[swscaler @ 0x1079b4000] \u001b[0m\u001b[0;33mdeprecated pixel format used, make sure you did set range correctly\n",
      "\u001b[0m\u001b[1;34m[swscaler @ 0x1079b4000] \u001b[0m\u001b[0;33mNo accelerated colorspace conversion found from yuv420p to bgr8.\n",
      "\u001b[0mOutput #0, gif, to 'China_vs_US.gif':\n",
      "  Metadata:\n",
      "    encoder         : Lavf58.29.100\n",
      "    Stream #0:0: Video: gif, bgr8, 2100x750 [SAR 1:1 DAR 14:5], q=2-31, 200 kb/s, 6 fps, 100 tbn, 6 tbc\n",
      "    Metadata:\n",
      "      encoder         : Lavc58.54.100 gif\n",
      "frame=   62 fps= 43 q=-0.0 Lsize=    1668kB time=00:00:10.18 bitrate=1342.1kbits/s speed=6.98x    \n",
      "video:1668kB audio:0kB subtitle:0kB other streams:0kB global headers:0kB muxing overhead: 0.001171%\n"
     ]
    }
   ],
   "source": [
    "! ffmpeg -f image2 -framerate 6 -y -i ./frames/frame_%002d.jpg China_vs_US.gif"
   ]
  },
  {
   "cell_type": "code",
   "execution_count": null,
   "metadata": {},
   "outputs": [],
   "source": []
  }
 ],
 "metadata": {
  "kernelspec": {
   "display_name": "Python [conda env:root] *",
   "language": "python",
   "name": "conda-root-py"
  },
  "language_info": {
   "codemirror_mode": {
    "name": "ipython",
    "version": 3
   },
   "file_extension": ".py",
   "mimetype": "text/x-python",
   "name": "python",
   "nbconvert_exporter": "python",
   "pygments_lexer": "ipython3",
   "version": "3.7.6"
  }
 },
 "nbformat": 4,
 "nbformat_minor": 4
}
