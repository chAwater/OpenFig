{
 "cells": [
  {
   "cell_type": "code",
   "execution_count": 1,
   "metadata": {},
   "outputs": [],
   "source": [
    "import numpy  as np\n",
    "import pandas as pd\n",
    "\n",
    "import seaborn           as sns\n",
    "import matplotlib.pyplot as plt\n",
    "\n",
    "import json, calendar\n",
    "\n",
    "from urllib.request import urlopen\n",
    "from bs4 import BeautifulSoup"
   ]
  },
  {
   "cell_type": "code",
   "execution_count": 2,
   "metadata": {},
   "outputs": [],
   "source": [
    "# url = 'http://www.kaggle.com/awater1223'\n",
    "# html  = urlopen(url)\n",
    "# bsObj = BeautifulSoup(html,'lxml')\n",
    "# table = bsObj.find(\"div\", {\"class\":\"site-layout__main-content\"})\n",
    "\n",
    "url = 'http://www.kaggle.com/awater1223/activity.json'\n",
    "\n",
    "html = urlopen(url)\n",
    "text = html.read().decode('utf-8')\n",
    "data = json.loads(text)\n",
    "df = pd.DataFrame(data)\n",
    "df.to_csv('KaggleActivity_'+pd.Timestamp.today().strftime('%Y%m%d')+'.csv')"
   ]
  },
  {
   "cell_type": "code",
   "execution_count": 3,
   "metadata": {},
   "outputs": [],
   "source": [
    "df_date = pd.to_datetime(df['date'])\n",
    "\n",
    "start = (\n",
    "    pd.Timestamp.today() \n",
    "    - pd.Timedelta(value=pd.Timestamp.today().dayofweek,unit='D') # week start\n",
    "    - pd.Timedelta(value=52,unit='W')\n",
    "    - pd.Timedelta(days=1)\n",
    ")\n",
    "end = pd.Timestamp.today() - pd.Timedelta(value=pd.Timestamp.today().dayofweek,unit='D') + pd.Timedelta(days=7-1-1)\n",
    "\n",
    "df_matrix = pd.concat(\n",
    "    [\n",
    "        df_date.apply(lambda row: row.date).rename('date'),\n",
    "        df_date.apply(lambda row: row.year).rename('y'),\n",
    "        df_date.apply(lambda row: (row.date() - start.date()).days//7).rename('n_w'),\n",
    "#         df_date.apply(lambda row: (row+pd.Timedelta(days=1)).weekofyear).rename('n_w'),\n",
    "        df_date.apply(lambda row: (row+pd.Timedelta(days=1)).dayofweek).rename('n_d'),\n",
    "        df_date.apply(lambda row: calendar.month_abbr[row.month]).rename('m_n'),\n",
    "        df.drop('date',axis=1).sum(axis=1).rename('act'),\n",
    "    ], axis=1\n",
    ").set_index('date')\n",
    "\n",
    "\n",
    "for dt in pd.date_range(start=start,end=end):\n",
    "    idx = dt.date()\n",
    "    if idx in df_matrix.index:\n",
    "        continue\n",
    "    else:\n",
    "        df_matrix.loc[idx] = {\n",
    "            'y':idx.year,\n",
    "            'n_w':(idx - start.date()).days//7,\n",
    "            'n_d':(dt+pd.Timedelta(days=1)).dayofweek,\n",
    "            'm_n':calendar.month_abbr[dt.month],\n",
    "            'act':0,\n",
    "        }\n",
    "\n",
    "df_matrix = df_matrix.sort_index()        \n",
    "\n",
    "heatmap = np.zeros((52,7),dtype=int)\n",
    "\n",
    "for _,row in df_matrix.iterrows():\n",
    "    n_w = row['n_w']-1\n",
    "    n_d = row['n_d']\n",
    "    n_a = row['act']\n",
    "    heatmap[n_w,n_d] = n_a\n"
   ]
  },
  {
   "cell_type": "code",
   "execution_count": 4,
   "metadata": {},
   "outputs": [
    {
     "data": {
      "image/png": "[encoded data removed]",
      "text/plain": [
       "<Figure size 1080x144 with 2 Axes>"
      ]
     },
     "metadata": {
      "needs_background": "light"
     },
     "output_type": "display_data"
    }
   ],
   "source": [
    "month_dict = df_matrix.drop_duplicates(subset=['y','m_n'],keep='first')\n",
    "month_dict = dict(zip( month_dict['n_w'].values, month_dict['m_n'].values ))\n",
    "month_idx = pd.Series( np.arange(0,52)+1 ).replace(month_dict).replace(dict(zip(np.arange(0,52)+1,['']*52))).tolist()[:-1]\n",
    "month_idx = ['']+month_idx\n",
    "\n",
    "fig, ax = plt.subplots(figsize=(15,2))\n",
    "cbar_ax = fig.add_axes([0.15, 0.0, 0.05, 0.08]) # [left, bottom, width, height]\n",
    "\n",
    "g = sns.heatmap(\n",
    "    heatmap.T, \n",
    "    vmax=15, \n",
    "    cmap='Blues',\n",
    "    xticklabels=month_idx,\n",
    "    yticklabels=False,\n",
    "    linewidths=2,\n",
    "    cbar_kws={ \n",
    "        'ticks':[], \n",
    "        'boundaries' : np.arange(0,25,5),\n",
    "        'orientation':'horizontal',\n",
    "    },\n",
    "    cbar_ax = cbar_ax,\n",
    "    ax = ax\n",
    ")\n",
    "cbar_ax.get_xaxis().set_ticklabels([]);\n",
    "\n",
    "ax.xaxis.tick_top()\n",
    "ax.xaxis.set_label_position('top')\n",
    "\n",
    "ax.set_title('Activity @ '+pd.Timestamp.today().strftime('%Y-%m-%d'))\n",
    "ax.tick_params(top=False)\n",
    "\n",
    "fig.savefig('Kaggle_Activity_' + pd.Timestamp.today().strftime('%Y') + '.png', bbox_inches='tight')\n",
    "fig.savefig('Kaggle_Activity_' + pd.Timestamp.today().strftime('%Y') + '.svg', bbox_inches='tight')\n"
   ]
  },
  {
   "cell_type": "code",
   "execution_count": null,
   "metadata": {},
   "outputs": [],
   "source": []
  }
 ],
 "metadata": {
  "kernelspec": {
   "display_name": "Python 3",
   "language": "python",
   "name": "python3"
  },
  "language_info": {
   "codemirror_mode": {
    "name": "ipython",
    "version": 3
   },
   "file_extension": ".py",
   "mimetype": "text/x-python",
   "name": "python",
   "nbconvert_exporter": "python",
   "pygments_lexer": "ipython3",
   "version": "3.5.6"
  }
 },
 "nbformat": 4,
 "nbformat_minor": 2
}
